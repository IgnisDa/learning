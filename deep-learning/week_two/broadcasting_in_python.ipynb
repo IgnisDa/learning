{
 "metadata": {
  "language_info": {
   "codemirror_mode": {
    "name": "ipython",
    "version": 3
   },
   "file_extension": ".py",
   "mimetype": "text/x-python",
   "name": "python",
   "nbconvert_exporter": "python",
   "pygments_lexer": "ipython3",
   "version": "3.9.1-final"
  },
  "orig_nbformat": 2,
  "kernelspec": {
   "name": "python3",
   "display_name": "Python 3"
  }
 },
 "nbformat": 4,
 "nbformat_minor": 2,
 "cells": [
  {
   "source": [
    "# Calculate the percentage of calories for carbohydrates, proteins, and fats without using an explicit for loop.\n",
    "\n",
    "|               | Apples | Beef  | Eggs | Potatoes |\n",
    "| ------------- | ------ | ----- | ---- | -------- |\n",
    "| carbohydrates | 56.0   | 0.0   | 4.4  | 68.0     |\n",
    "| proteins      | 1.2    | 104.0 | 52.0 | 8.0      |\n",
    "| fats          | 1.8    | 135.0 | 99.0 | 0.9      |"
   ],
   "cell_type": "markdown",
   "metadata": {}
  },
  {
   "cell_type": "code",
   "execution_count": 10,
   "metadata": {},
   "outputs": [
    {
     "output_type": "stream",
     "name": "stdout",
     "text": [
      "[[ 56.    0.    4.4  68. ]\n [  1.2 104.   52.    8. ]\n [  1.8 135.   99.    0.9]]\n"
     ]
    }
   ],
   "source": [
    "import numpy as np\n",
    "A = np.array([\n",
    "    [56.0, 0.0, 4.4, 68.0],\n",
    "    [1.2, 104.0, 52.0, 8.0],\n",
    "    [1.8, 135.0, 99.0, 0.9]\n",
    "])\n",
    "print(A)"
   ]
  },
  {
   "cell_type": "code",
   "execution_count": 11,
   "metadata": {},
   "outputs": [
    {
     "output_type": "stream",
     "name": "stdout",
     "text": [
      "[ 59.  239.  155.4  76.9]\n"
     ]
    }
   ],
   "source": [
    "cal = A.sum(axis=0)\n",
    "print(cal)"
   ]
  },
  {
   "cell_type": "code",
   "execution_count": 14,
   "metadata": {},
   "outputs": [
    {
     "output_type": "stream",
     "name": "stdout",
     "text": [
      "[[94.91525424  0.          2.83140283 88.42652796]\n [ 2.03389831 43.51464435 33.46203346 10.40312094]\n [ 3.05084746 56.48535565 63.70656371  1.17035111]]\n"
     ]
    }
   ],
   "source": [
    "percentage = A / cal.reshape(1, 4) * 100\n",
    "print(percentage)"
   ]
  },
  {
   "source": [
    "This uses python broadcasting"
   ],
   "cell_type": "markdown",
   "metadata": {}
  },
  {
   "source": [
    "## Explanation\n",
    "\n",
    "When you take a vector (or a matrix), and add it to a single number, python automatically expands the single number to represent a similar shaped vector (or matrix) to add to the original vector. This is called broadcasting in python.\n",
    "\n",
    "### Example 1:\n",
    "\n",
    "| 1   |\n",
    "| --- |\n",
    "| 2   |\n",
    "| 3   |\n",
    "| 4   |\n",
    "\n",
    "\\+ 100 =\n",
    "\n",
    "| 101 |\n",
    "| --- |\n",
    "| 102 |\n",
    "| 103 |\n",
    "| 104 |\n",
    "\n",
    "### Example 2:\n",
    "\n",
    "| 1   | 2   | 3   |\n",
    "| --- | --- | --- |\n",
    "| 4   | 5   | 6   |\n",
    "\n",
    "\\+\n",
    "\n",
    "|100|200|300|\n",
    "|---|---|---|\n",
    "\n",
    "=\n",
    "\n",
    "| 101 | 202 | 303 |\n",
    "| --- | --- | --- |\n",
    "| 104 | 205 | 306 |"
   ],
   "cell_type": "markdown",
   "metadata": {}
  },
  {
   "source": [
    "## General Principle\n",
    "\n",
    "If you have an (m, n) matrix and add, subtract, divide or multiply by a (1, n) matrix, then it is copied into a (m, n) matrix and vice versa for (n, m) matrix."
   ],
   "cell_type": "markdown",
   "metadata": {}
  }
 ]
}
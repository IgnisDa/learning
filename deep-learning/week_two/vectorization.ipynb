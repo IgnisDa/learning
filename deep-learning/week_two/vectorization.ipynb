{
 "metadata": {
  "language_info": {
   "codemirror_mode": {
    "name": "ipython",
    "version": 3
   },
   "file_extension": ".py",
   "mimetype": "text/x-python",
   "name": "python",
   "nbconvert_exporter": "python",
   "pygments_lexer": "ipython3",
   "version": "3.9.1-final"
  },
  "orig_nbformat": 2,
  "kernelspec": {
   "name": "python3",
   "display_name": "Python 3"
  }
 },
 "nbformat": 4,
 "nbformat_minor": 2,
 "cells": [
  {
   "source": [
    "# Difference between vectorized and non-vectorized output\n",
    "\n",
    "Using this notebook, we will see how vectorization is important. We will demonstrate that vectorization is much faster than the traditional method of using for loops."
   ],
   "cell_type": "markdown",
   "metadata": {}
  },
  {
   "source": [
    "### What is vectorization?\n",
    "\n",
    "<span style=\"color: red;\">It is simply eliminating explicit for loops in favor of faster methods.</span> \n",
    "\n",
    "### Why is it used?\n",
    "\n",
    "In the age of deep learning, as datasets get bigger, we need more computation power to process these. For loops increase the time complexity of code and are generally not preferred. This is where methods like vectorization come in- to save time and memory."
   ],
   "cell_type": "markdown",
   "metadata": {}
  },
  {
   "cell_type": "code",
   "execution_count": 33,
   "metadata": {},
   "outputs": [
    {
     "output_type": "stream",
     "name": "stdout",
     "text": [
      "[1 2 3 4]\n"
     ]
    }
   ],
   "source": [
    "import numpy as np\n",
    "a = np.array([1, 2, 3, 4])\n",
    "print(a)"
   ]
  },
  {
   "source": [
    "## Using vectorization"
   ],
   "cell_type": "markdown",
   "metadata": {}
  },
  {
   "cell_type": "code",
   "execution_count": 34,
   "metadata": {},
   "outputs": [
    {
     "output_type": "stream",
     "name": "stdout",
     "text": [
      "Vectorized version: 12.703895568847656 ms\nc = 2499105.0134523497\n"
     ]
    }
   ],
   "source": [
    "import time\n",
    "\n",
    "a = np.random.rand(100000)\n",
    "b = np.random.rand(100000)\n",
    "\n",
    "tic = time.time()\n",
    "c = np.dot(a, b)\n",
    "toc = time.time()\n",
    "\n",
    "vectorized_time = 1000 * (toc - tic)\n",
    "\n",
    "print(f\"Vectorized version: {vectorized_time} ms\")\n",
    "print(f\"{c = }\")"
   ]
  },
  {
   "source": [
    "## Non vectorized version"
   ],
   "cell_type": "markdown",
   "metadata": {}
  },
  {
   "source": [
    "c = 0\n",
    "tic = time.time()\n",
    "for i in range(100000):\n",
    "    c += a[i] * b[i]\n",
    "toc = time.time()\n",
    "\n",
    "non_vectorized_time = 1000 * (toc - tic)\n",
    "\n",
    "print(f\"Non vectorized version (using for loops): {non_vectorized_time} ms\")\n",
    "print(f\"{c = }\")"
   ],
   "cell_type": "code",
   "metadata": {},
   "execution_count": 35,
   "outputs": [
    {
     "output_type": "stream",
     "name": "stdout",
     "text": [
      "Non vectorized version (using for loops): 5228.666305541992 ms\nc = 2499105.0134522337\n"
     ]
    }
   ]
  },
  {
   "cell_type": "code",
   "execution_count": 36,
   "metadata": {},
   "outputs": [
    {
     "output_type": "stream",
     "name": "stdout",
     "text": [
      "Vectorization is faster by 411.57976127918323 times!\n"
     ]
    }
   ],
   "source": [
    "print(f\"Vectorization is faster by {non_vectorized_time / vectorized_time} times!\")"
   ]
  },
  {
   "source": [
    "Thus we see that the vectorized version is significantly faster (200 to 500 times)!\n",
    "\n",
    "## Remember to vectorize your code!"
   ],
   "cell_type": "markdown",
   "metadata": {}
  }
 ]
}
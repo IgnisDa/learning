{
 "metadata": {
  "language_info": {
   "codemirror_mode": {
    "name": "ipython",
    "version": 3
   },
   "file_extension": ".py",
   "mimetype": "text/x-python",
   "name": "python",
   "nbconvert_exporter": "python",
   "pygments_lexer": "ipython3",
   "version": "3.9.1-final"
  },
  "orig_nbformat": 2,
  "kernelspec": {
   "name": "python3",
   "display_name": "Python 3"
  }
 },
 "nbformat": 4,
 "nbformat_minor": 2,
 "cells": [
  {
   "source": [
    "# Difference between vectorization and non-vectorization\n",
    "\n",
    "Using this notebook, we will see how vectorization is important. We will demonstrate that vectorization is much faster than the traditional method of using for loops."
   ],
   "cell_type": "markdown",
   "metadata": {}
  },
  {
   "source": [
    "### What is vectorization?\n",
    "\n",
    "It is simply eliminating explicit for loops in favor of faster methods. \n",
    "\n",
    "### Why is it used?\n",
    "\n",
    "In the age of deep learning, as datasets get bigger, we need more computation power to process these. For loops increase the time complexity of code and are generally not preferred. This is where methods like vectorization come in- to save time and memory."
   ],
   "cell_type": "markdown",
   "metadata": {}
  },
  {
   "cell_type": "code",
   "execution_count": 42,
   "metadata": {},
   "outputs": [
    {
     "output_type": "stream",
     "name": "stdout",
     "text": [
      "[1 2 3 4]\n"
     ]
    }
   ],
   "source": [
    "import numpy as np\n",
    "a = np.array([1, 2, 3, 4])\n",
    "print(a)"
   ]
  },
  {
   "source": [
    "## Using vectorization"
   ],
   "cell_type": "markdown",
   "metadata": {}
  },
  {
   "cell_type": "code",
   "execution_count": 43,
   "metadata": {},
   "outputs": [
    {
     "output_type": "stream",
     "name": "stdout",
     "text": [
      "Vectorized version: 0.5936622619628906 ms\nc = 24908.926375214898\n"
     ]
    }
   ],
   "source": [
    "import time\n",
    "\n",
    "a = np.random.rand(100000)\n",
    "b = np.random.rand(100000)\n",
    "\n",
    "tic = time.time()\n",
    "c = np.dot(a, b)\n",
    "toc = time.time()\n",
    "\n",
    "print(f\"Vectorized version: {1000 * (toc - tic)} ms\")\n",
    "print(f\"{c = }\")"
   ]
  },
  {
   "source": [
    "## Non vectorized version"
   ],
   "cell_type": "markdown",
   "metadata": {}
  },
  {
   "source": [
    "c = 0\n",
    "tic = time.time()\n",
    "for i in range(100000):\n",
    "    c += a[i] * b[i]\n",
    "toc = time.time()\n",
    "\n",
    "print(f\"Non vectorized version (using for loops): {1000 * (toc - tic)} ms\")\n",
    "print(f\"{c = }\")"
   ],
   "cell_type": "code",
   "metadata": {},
   "execution_count": 44,
   "outputs": [
    {
     "output_type": "stream",
     "name": "stdout",
     "text": [
      "Non vectorized version (using for loops): 136.2287998199463 ms\nc = 24908.9263752147\n"
     ]
    }
   ]
  },
  {
   "source": [
    "Thus we see that the vectorized version is almost 250 times faster!\n",
    "\n",
    "## Remember to vectorize your code!"
   ],
   "cell_type": "markdown",
   "metadata": {}
  },
  {
   "cell_type": "code",
   "execution_count": null,
   "metadata": {},
   "outputs": [],
   "source": []
  }
 ]
}
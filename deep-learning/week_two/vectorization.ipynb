{
 "metadata": {
  "language_info": {
   "codemirror_mode": {
    "name": "ipython",
    "version": 3
   },
   "file_extension": ".py",
   "mimetype": "text/x-python",
   "name": "python",
   "nbconvert_exporter": "python",
   "pygments_lexer": "ipython3",
   "version": "3.9.1-final"
  },
  "orig_nbformat": 2,
  "kernelspec": {
   "name": "python3",
   "display_name": "Python 3"
  }
 },
 "nbformat": 4,
 "nbformat_minor": 2,
 "cells": [
  {
   "cell_type": "markdown",
   "source": [
    "# Difference between vectorized and non-vectorized computation\n",
    "\n",
    "Using this notebook, we will see how vectorization is important. We will demonstrate that vectorization is much faster than the traditional method of using for loops."
   ],
   "metadata": {}
  },
  {
   "cell_type": "markdown",
   "source": [
    "### What is vectorization?\n",
    "\n",
    "<span style=\"color: red;\">It is simply eliminating explicit for loops in favor of faster methods.</span> \n",
    "\n",
    "### Why is it used?\n",
    "\n",
    "In the age of deep learning, as datasets get bigger, we need more computation power to process these. For loops increase the time complexity of code and are generally not preferred. This is where methods like vectorization come in- to save time and memory."
   ],
   "metadata": {}
  },
  {
   "cell_type": "code",
   "execution_count": 37,
   "source": [
    "import numpy as np\n",
    "a = np.array([1, 2, 3, 4])\n",
    "print(a)"
   ],
   "outputs": [
    {
     "output_type": "stream",
     "name": "stdout",
     "text": [
      "[1 2 3 4]\n"
     ]
    }
   ],
   "metadata": {}
  },
  {
   "cell_type": "markdown",
   "source": [
    "## Using vectorization"
   ],
   "metadata": {}
  },
  {
   "cell_type": "code",
   "execution_count": 38,
   "source": [
    "import time\n",
    "\n",
    "a = np.random.rand(100000)\n",
    "b = np.random.rand(100000)\n",
    "\n",
    "tic = time.time()\n",
    "c = np.dot(a, b)\n",
    "toc = time.time()\n",
    "\n",
    "vectorized_time = 1000 * (toc - tic)\n",
    "\n",
    "print(f\"Vectorized version: {vectorized_time} ms\")\n",
    "print(f\"{c = }\")"
   ],
   "outputs": [
    {
     "output_type": "stream",
     "name": "stdout",
     "text": [
      "Vectorized version: 0.5831718444824219 ms\n",
      "c = 24872.264030549333\n"
     ]
    }
   ],
   "metadata": {}
  },
  {
   "cell_type": "markdown",
   "source": [
    "## Non vectorized version"
   ],
   "metadata": {}
  },
  {
   "cell_type": "code",
   "execution_count": 39,
   "source": [
    "c = 0\n",
    "tic = time.time()\n",
    "for i in range(100000):\n",
    "    c += a[i] * b[i]\n",
    "toc = time.time()\n",
    "\n",
    "non_vectorized_time = 1000 * (toc - tic)\n",
    "\n",
    "print(f\"Non vectorized version (using for loops): {non_vectorized_time} ms\")\n",
    "print(f\"{c = }\")"
   ],
   "outputs": [
    {
     "output_type": "stream",
     "name": "stdout",
     "text": [
      "Non vectorized version (using for loops): 143.70203018188477 ms\n",
      "c = 24872.264030549577\n"
     ]
    }
   ],
   "metadata": {}
  },
  {
   "cell_type": "code",
   "execution_count": 40,
   "source": [
    "print(f\"Vectorization is faster by {non_vectorized_time / vectorized_time} times!\")"
   ],
   "outputs": [
    {
     "output_type": "stream",
     "name": "stdout",
     "text": [
      "Vectorization is faster by 246.41455437448897 times!\n"
     ]
    }
   ],
   "metadata": {}
  },
  {
   "cell_type": "markdown",
   "source": [
    "Thus we see that the vectorized version is significantly faster (200 to 500 times)!\n",
    "\n",
    "## Remember to vectorize your code!"
   ],
   "metadata": {}
  }
 ]
}
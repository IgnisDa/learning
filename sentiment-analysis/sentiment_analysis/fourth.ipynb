{
 "metadata": {
  "language_info": {
   "codemirror_mode": {
    "name": "ipython",
    "version": 3
   },
   "file_extension": ".py",
   "mimetype": "text/x-python",
   "name": "python",
   "nbconvert_exporter": "python",
   "pygments_lexer": "ipython3",
   "version": "3.8.6-final"
  },
  "orig_nbformat": 2,
  "kernelspec": {
   "name": "python3",
   "display_name": "Python 3",
   "language": "python"
  }
 },
 "nbformat": 4,
 "nbformat_minor": 2,
 "cells": [
  {
   "source": [
    "# Simple polarity calculator\n",
    "This program aims to classify Amazon product reviews as `positive`,`neutral` or `negative`."
   ],
   "cell_type": "markdown",
   "metadata": {}
  },
  {
   "cell_type": "code",
   "execution_count": 1,
   "metadata": {},
   "outputs": [],
   "source": [
    "# import all necessary libraries\n",
    "import re\n",
    "from pathlib import Path\n",
    "import random\n",
    "\n",
    "import pandas as pd\n",
    "import textblob"
   ]
  },
  {
   "cell_type": "code",
   "execution_count": 2,
   "metadata": {},
   "outputs": [],
   "source": [
    "# we use the following variables to define the filepaths of the input data\n",
    "# to prevent problems with relative filenames\n",
    "DATA_FILE = Path().resolve() / 'data' / 'fourth.csv'"
   ]
  },
  {
   "cell_type": "code",
   "execution_count": 3,
   "metadata": {},
   "outputs": [],
   "source": [
    "# this function will remove all unncessary parts of the text that are not \n",
    "# related to the sentiment itself\n",
    "def remove_noise(text):\n",
    "    text = re.sub(r'https?\\/\\/\\S+', '', text)\n",
    "    text = re.sub(r'@\\w+', '', text)\n",
    "    return text "
   ]
  },
  {
   "cell_type": "code",
   "execution_count": 4,
   "metadata": {},
   "outputs": [
    {
     "output_type": "execute_result",
     "data": {
      "text/plain": [
       "                     id                                               name  \\\n",
       "0  AVpfl8cLLJeJML43AE3S               Amazon Fire Tv,,,\\nAmazon Fire Tv,,,   \n",
       "1  AVphgVaX1cnluZ0-DR74  Fire Tablet, 7 Display, Wi-Fi, 8 GB - Includes...   \n",
       "2  AVpjEN4jLJeJML43rpUe  Fire Kids Edition Tablet, 7 Display, Wi-Fi, 16...   \n",
       "3  AVpfl8cLLJeJML43AE3S               Amazon Fire Tv,,,\\nAmazon Fire Tv,,,   \n",
       "4  AV1YnRtnglJLPUi8IJmV  Amazon Kindle Paperwhite - eBook reader - 4 GB...   \n",
       "\n",
       "                   asins   brand  \\\n",
       "0  B00L9EPT8O,B01E6AO69U  Amazon   \n",
       "1             B018Y229OU  Amazon   \n",
       "2             B018Y225IA  Amazon   \n",
       "3  B00L9EPT8O,B01E6AO69U  Amazon   \n",
       "4             B00OQVZDJM  Amazon   \n",
       "\n",
       "                                          categories  \\\n",
       "0  Stereos,Remote Controls,Amazon Echo,Audio Dock...   \n",
       "1  Fire Tablets,Tablets,Computers & Tablets,All T...   \n",
       "2  Computers/Tablets & Networking,Tablets & eBook...   \n",
       "3  Stereos,Remote Controls,Amazon Echo,Audio Dock...   \n",
       "4  Walmart for Business,Office Electronics,Tablet...   \n",
       "\n",
       "                                                keys manufacturer  \\\n",
       "0  echowhite/263039693056,echowhite/152558276095,...       Amazon   \n",
       "1  firetablet7displaywifi8gbincludesspecialoffers...       Amazon   \n",
       "2  841667103143,0841667103143,brandnewamazonkindl...       Amazon   \n",
       "3  echowhite/263039693056,echowhite/152558276095,...       Amazon   \n",
       "4  amazon/b00oqvzdjm,848719056099,amazonkindlepap...       Amazon   \n",
       "\n",
       "               reviews.date     reviews.dateAdded  \\\n",
       "0  2017-09-20T00:00:00.000Z                   NaN   \n",
       "1  2016-07-08T00:00:00.000Z  2017-05-21T02:57:49Z   \n",
       "2  2016-07-16T00:00:00.000Z                   NaN   \n",
       "3  2017-09-24T00:00:00.000Z                   NaN   \n",
       "4  2016-08-26T00:00:00.000Z  2017-09-05T22:09:30Z   \n",
       "\n",
       "                                    reviews.dateSeen  ...  \\\n",
       "0                               2017-09-28T00:00:00Z  ...   \n",
       "1  2017-04-30T00:20:00.000Z,2017-06-07T08:18:00.000Z  ...   \n",
       "2  2017-08-27T00:00:00Z,2017-08-09T00:00:00Z,2017...  ...   \n",
       "3                               2017-09-28T00:00:00Z  ...   \n",
       "4  2017-08-31T22:33:27.350Z,2017-08-02T19:54:00.4...  ...   \n",
       "\n",
       "   reviews.doRecommend reviews.id  reviews.numHelpful  reviews.rating  \\\n",
       "0                 True        NaN                 0.0               5   \n",
       "1                 True        NaN                 0.0               5   \n",
       "2                 True        NaN                 0.0               5   \n",
       "3                 True        NaN                 0.0               5   \n",
       "4                 True        NaN                 0.0               5   \n",
       "\n",
       "                                  reviews.sourceURLs  \\\n",
       "0  http://reviews.bestbuy.com/3545/5588528/review...   \n",
       "1  http://reviews.bestbuy.com/3545/5025800/review...   \n",
       "2  http://reviews.bestbuy.com/3545/5025500/review...   \n",
       "3  http://reviews.bestbuy.com/3545/5588528/review...   \n",
       "4  http://reviews.bestbuy.com/3545/9439005/review...   \n",
       "\n",
       "                                        reviews.text  \\\n",
       "0  Great personal assistant. Sometimes when music...   \n",
       "1  My kids are growing out of their ipod touch an...   \n",
       "2  You couldn't get a better buy for $59 than the...   \n",
       "3  Handy and entertaining device to have. Ask it ...   \n",
       "4  This is my second Kindle Paperwhite. My first ...   \n",
       "\n",
       "                          reviews.title reviews.userCity  \\\n",
       "0        Much more than I was expecting              NaN   \n",
       "1  Great gift for kids at a great price              NaN   \n",
       "2                        Great tablet!!              NaN   \n",
       "3    More capabilities added every week              NaN   \n",
       "4                        Love my Kindle              NaN   \n",
       "\n",
       "   reviews.userProvince  reviews.username  \n",
       "0                   NaN              bfun  \n",
       "1                   NaN            have89  \n",
       "2                   NaN        toons4ever  \n",
       "3                   NaN            GG1953  \n",
       "4                   NaN            BarbMS  \n",
       "\n",
       "[5 rows x 21 columns]"
      ],
      "text/html": "<div>\n<style scoped>\n    .dataframe tbody tr th:only-of-type {\n        vertical-align: middle;\n    }\n\n    .dataframe tbody tr th {\n        vertical-align: top;\n    }\n\n    .dataframe thead th {\n        text-align: right;\n    }\n</style>\n<table border=\"1\" class=\"dataframe\">\n  <thead>\n    <tr style=\"text-align: right;\">\n      <th></th>\n      <th>id</th>\n      <th>name</th>\n      <th>asins</th>\n      <th>brand</th>\n      <th>categories</th>\n      <th>keys</th>\n      <th>manufacturer</th>\n      <th>reviews.date</th>\n      <th>reviews.dateAdded</th>\n      <th>reviews.dateSeen</th>\n      <th>...</th>\n      <th>reviews.doRecommend</th>\n      <th>reviews.id</th>\n      <th>reviews.numHelpful</th>\n      <th>reviews.rating</th>\n      <th>reviews.sourceURLs</th>\n      <th>reviews.text</th>\n      <th>reviews.title</th>\n      <th>reviews.userCity</th>\n      <th>reviews.userProvince</th>\n      <th>reviews.username</th>\n    </tr>\n  </thead>\n  <tbody>\n    <tr>\n      <th>0</th>\n      <td>AVpfl8cLLJeJML43AE3S</td>\n      <td>Amazon Fire Tv,,,\\nAmazon Fire Tv,,,</td>\n      <td>B00L9EPT8O,B01E6AO69U</td>\n      <td>Amazon</td>\n      <td>Stereos,Remote Controls,Amazon Echo,Audio Dock...</td>\n      <td>echowhite/263039693056,echowhite/152558276095,...</td>\n      <td>Amazon</td>\n      <td>2017-09-20T00:00:00.000Z</td>\n      <td>NaN</td>\n      <td>2017-09-28T00:00:00Z</td>\n      <td>...</td>\n      <td>True</td>\n      <td>NaN</td>\n      <td>0.0</td>\n      <td>5</td>\n      <td>http://reviews.bestbuy.com/3545/5588528/review...</td>\n      <td>Great personal assistant. Sometimes when music...</td>\n      <td>Much more than I was expecting</td>\n      <td>NaN</td>\n      <td>NaN</td>\n      <td>bfun</td>\n    </tr>\n    <tr>\n      <th>1</th>\n      <td>AVphgVaX1cnluZ0-DR74</td>\n      <td>Fire Tablet, 7 Display, Wi-Fi, 8 GB - Includes...</td>\n      <td>B018Y229OU</td>\n      <td>Amazon</td>\n      <td>Fire Tablets,Tablets,Computers &amp; Tablets,All T...</td>\n      <td>firetablet7displaywifi8gbincludesspecialoffers...</td>\n      <td>Amazon</td>\n      <td>2016-07-08T00:00:00.000Z</td>\n      <td>2017-05-21T02:57:49Z</td>\n      <td>2017-04-30T00:20:00.000Z,2017-06-07T08:18:00.000Z</td>\n      <td>...</td>\n      <td>True</td>\n      <td>NaN</td>\n      <td>0.0</td>\n      <td>5</td>\n      <td>http://reviews.bestbuy.com/3545/5025800/review...</td>\n      <td>My kids are growing out of their ipod touch an...</td>\n      <td>Great gift for kids at a great price</td>\n      <td>NaN</td>\n      <td>NaN</td>\n      <td>have89</td>\n    </tr>\n    <tr>\n      <th>2</th>\n      <td>AVpjEN4jLJeJML43rpUe</td>\n      <td>Fire Kids Edition Tablet, 7 Display, Wi-Fi, 16...</td>\n      <td>B018Y225IA</td>\n      <td>Amazon</td>\n      <td>Computers/Tablets &amp; Networking,Tablets &amp; eBook...</td>\n      <td>841667103143,0841667103143,brandnewamazonkindl...</td>\n      <td>Amazon</td>\n      <td>2016-07-16T00:00:00.000Z</td>\n      <td>NaN</td>\n      <td>2017-08-27T00:00:00Z,2017-08-09T00:00:00Z,2017...</td>\n      <td>...</td>\n      <td>True</td>\n      <td>NaN</td>\n      <td>0.0</td>\n      <td>5</td>\n      <td>http://reviews.bestbuy.com/3545/5025500/review...</td>\n      <td>You couldn't get a better buy for $59 than the...</td>\n      <td>Great tablet!!</td>\n      <td>NaN</td>\n      <td>NaN</td>\n      <td>toons4ever</td>\n    </tr>\n    <tr>\n      <th>3</th>\n      <td>AVpfl8cLLJeJML43AE3S</td>\n      <td>Amazon Fire Tv,,,\\nAmazon Fire Tv,,,</td>\n      <td>B00L9EPT8O,B01E6AO69U</td>\n      <td>Amazon</td>\n      <td>Stereos,Remote Controls,Amazon Echo,Audio Dock...</td>\n      <td>echowhite/263039693056,echowhite/152558276095,...</td>\n      <td>Amazon</td>\n      <td>2017-09-24T00:00:00.000Z</td>\n      <td>NaN</td>\n      <td>2017-09-28T00:00:00Z</td>\n      <td>...</td>\n      <td>True</td>\n      <td>NaN</td>\n      <td>0.0</td>\n      <td>5</td>\n      <td>http://reviews.bestbuy.com/3545/5588528/review...</td>\n      <td>Handy and entertaining device to have. Ask it ...</td>\n      <td>More capabilities added every week</td>\n      <td>NaN</td>\n      <td>NaN</td>\n      <td>GG1953</td>\n    </tr>\n    <tr>\n      <th>4</th>\n      <td>AV1YnRtnglJLPUi8IJmV</td>\n      <td>Amazon Kindle Paperwhite - eBook reader - 4 GB...</td>\n      <td>B00OQVZDJM</td>\n      <td>Amazon</td>\n      <td>Walmart for Business,Office Electronics,Tablet...</td>\n      <td>amazon/b00oqvzdjm,848719056099,amazonkindlepap...</td>\n      <td>Amazon</td>\n      <td>2016-08-26T00:00:00.000Z</td>\n      <td>2017-09-05T22:09:30Z</td>\n      <td>2017-08-31T22:33:27.350Z,2017-08-02T19:54:00.4...</td>\n      <td>...</td>\n      <td>True</td>\n      <td>NaN</td>\n      <td>0.0</td>\n      <td>5</td>\n      <td>http://reviews.bestbuy.com/3545/9439005/review...</td>\n      <td>This is my second Kindle Paperwhite. My first ...</td>\n      <td>Love my Kindle</td>\n      <td>NaN</td>\n      <td>NaN</td>\n      <td>BarbMS</td>\n    </tr>\n  </tbody>\n</table>\n<p>5 rows × 21 columns</p>\n</div>"
     },
     "metadata": {},
     "execution_count": 4
    }
   ],
   "source": [
    "# load all the data into a dataframe\n",
    "df = pd.read_csv(DATA_FILE)\n",
    "\n",
    "# display the first 5 entries\n",
    "df.head()"
   ]
  },
  {
   "cell_type": "code",
   "execution_count": 5,
   "metadata": {},
   "outputs": [
    {
     "output_type": "execute_result",
     "data": {
      "text/plain": [
       "array(['id', 'name', 'asins', 'brand', 'categories', 'keys',\n",
       "       'manufacturer', 'reviews.date', 'reviews.dateAdded',\n",
       "       'reviews.dateSeen', 'reviews.didPurchase', 'reviews.doRecommend',\n",
       "       'reviews.id', 'reviews.numHelpful', 'reviews.rating',\n",
       "       'reviews.sourceURLs', 'reviews.text', 'reviews.title',\n",
       "       'reviews.userCity', 'reviews.userProvince', 'reviews.username'],\n",
       "      dtype=object)"
      ]
     },
     "metadata": {},
     "execution_count": 5
    }
   ],
   "source": [
    "# show all the headers\n",
    "df.columns.values"
   ]
  },
  {
   "cell_type": "code",
   "execution_count": 6,
   "metadata": {},
   "outputs": [],
   "source": [
    "# get the names of all the colums that need to be dropped\n",
    "drop_columns = filter(lambda x: x not in ['name', 'reviews.text'], df.columns.values)\n",
    "\n",
    "# drop all columns except the `name`, `id` and `reviews.text` \n",
    "df.drop(drop_columns, inplace=True, axis=1)"
   ]
  },
  {
   "cell_type": "code",
   "execution_count": 7,
   "metadata": {},
   "outputs": [
    {
     "output_type": "execute_result",
     "data": {
      "text/plain": [
       "                                                name  \\\n",
       "0               Amazon Fire Tv,,,\\nAmazon Fire Tv,,,   \n",
       "1  Fire Tablet, 7 Display, Wi-Fi, 8 GB - Includes...   \n",
       "2  Fire Kids Edition Tablet, 7 Display, Wi-Fi, 16...   \n",
       "3               Amazon Fire Tv,,,\\nAmazon Fire Tv,,,   \n",
       "4  Amazon Kindle Paperwhite - eBook reader - 4 GB...   \n",
       "\n",
       "                                        reviews.text  \n",
       "0  Great personal assistant. Sometimes when music...  \n",
       "1  My kids are growing out of their ipod touch an...  \n",
       "2  You couldn't get a better buy for $59 than the...  \n",
       "3  Handy and entertaining device to have. Ask it ...  \n",
       "4  This is my second Kindle Paperwhite. My first ...  "
      ],
      "text/html": "<div>\n<style scoped>\n    .dataframe tbody tr th:only-of-type {\n        vertical-align: middle;\n    }\n\n    .dataframe tbody tr th {\n        vertical-align: top;\n    }\n\n    .dataframe thead th {\n        text-align: right;\n    }\n</style>\n<table border=\"1\" class=\"dataframe\">\n  <thead>\n    <tr style=\"text-align: right;\">\n      <th></th>\n      <th>name</th>\n      <th>reviews.text</th>\n    </tr>\n  </thead>\n  <tbody>\n    <tr>\n      <th>0</th>\n      <td>Amazon Fire Tv,,,\\nAmazon Fire Tv,,,</td>\n      <td>Great personal assistant. Sometimes when music...</td>\n    </tr>\n    <tr>\n      <th>1</th>\n      <td>Fire Tablet, 7 Display, Wi-Fi, 8 GB - Includes...</td>\n      <td>My kids are growing out of their ipod touch an...</td>\n    </tr>\n    <tr>\n      <th>2</th>\n      <td>Fire Kids Edition Tablet, 7 Display, Wi-Fi, 16...</td>\n      <td>You couldn't get a better buy for $59 than the...</td>\n    </tr>\n    <tr>\n      <th>3</th>\n      <td>Amazon Fire Tv,,,\\nAmazon Fire Tv,,,</td>\n      <td>Handy and entertaining device to have. Ask it ...</td>\n    </tr>\n    <tr>\n      <th>4</th>\n      <td>Amazon Kindle Paperwhite - eBook reader - 4 GB...</td>\n      <td>This is my second Kindle Paperwhite. My first ...</td>\n    </tr>\n  </tbody>\n</table>\n</div>"
     },
     "metadata": {},
     "execution_count": 7
    }
   ],
   "source": [
    "# display the newly filtered dataframe\n",
    "df.head()"
   ]
  },
  {
   "cell_type": "code",
   "execution_count": 8,
   "metadata": {},
   "outputs": [],
   "source": [
    "# define a function to classify the polarity of an input statement\n",
    "def get_polarity(text: str) -> float:\n",
    "    return textblob.TextBlob(text).polarity"
   ]
  },
  {
   "cell_type": "code",
   "execution_count": 9,
   "metadata": {},
   "outputs": [
    {
     "output_type": "execute_result",
     "data": {
      "text/plain": [
       "                                                name  \\\n",
       "0               Amazon Fire Tv,,,\\nAmazon Fire Tv,,,   \n",
       "1  Fire Tablet, 7 Display, Wi-Fi, 8 GB - Includes...   \n",
       "2  Fire Kids Edition Tablet, 7 Display, Wi-Fi, 16...   \n",
       "3               Amazon Fire Tv,,,\\nAmazon Fire Tv,,,   \n",
       "4  Amazon Kindle Paperwhite - eBook reader - 4 GB...   \n",
       "\n",
       "                                        reviews.text  polarity  \n",
       "0  Great personal assistant. Sometimes when music...  0.291429  \n",
       "1  My kids are growing out of their ipod touch an...  0.266667  \n",
       "2  You couldn't get a better buy for $59 than the...  0.266667  \n",
       "3  Handy and entertaining device to have. Ask it ...  0.500000  \n",
       "4  This is my second Kindle Paperwhite. My first ...  0.301667  "
      ],
      "text/html": "<div>\n<style scoped>\n    .dataframe tbody tr th:only-of-type {\n        vertical-align: middle;\n    }\n\n    .dataframe tbody tr th {\n        vertical-align: top;\n    }\n\n    .dataframe thead th {\n        text-align: right;\n    }\n</style>\n<table border=\"1\" class=\"dataframe\">\n  <thead>\n    <tr style=\"text-align: right;\">\n      <th></th>\n      <th>name</th>\n      <th>reviews.text</th>\n      <th>polarity</th>\n    </tr>\n  </thead>\n  <tbody>\n    <tr>\n      <th>0</th>\n      <td>Amazon Fire Tv,,,\\nAmazon Fire Tv,,,</td>\n      <td>Great personal assistant. Sometimes when music...</td>\n      <td>0.291429</td>\n    </tr>\n    <tr>\n      <th>1</th>\n      <td>Fire Tablet, 7 Display, Wi-Fi, 8 GB - Includes...</td>\n      <td>My kids are growing out of their ipod touch an...</td>\n      <td>0.266667</td>\n    </tr>\n    <tr>\n      <th>2</th>\n      <td>Fire Kids Edition Tablet, 7 Display, Wi-Fi, 16...</td>\n      <td>You couldn't get a better buy for $59 than the...</td>\n      <td>0.266667</td>\n    </tr>\n    <tr>\n      <th>3</th>\n      <td>Amazon Fire Tv,,,\\nAmazon Fire Tv,,,</td>\n      <td>Handy and entertaining device to have. Ask it ...</td>\n      <td>0.500000</td>\n    </tr>\n    <tr>\n      <th>4</th>\n      <td>Amazon Kindle Paperwhite - eBook reader - 4 GB...</td>\n      <td>This is my second Kindle Paperwhite. My first ...</td>\n      <td>0.301667</td>\n    </tr>\n  </tbody>\n</table>\n</div>"
     },
     "metadata": {},
     "execution_count": 9
    }
   ],
   "source": [
    "# find the polarity of each row and add it to a column in the dataframe\n",
    "df['polarity'] = df['reviews.text'].apply(get_polarity)\n",
    "\n",
    "# show the first 5 rows of data\n",
    "df.head()"
   ]
  },
  {
   "cell_type": "code",
   "execution_count": 10,
   "metadata": {},
   "outputs": [],
   "source": [
    "# define a function to classify a text as `positive`, 'negative` or `neutral` \n",
    "# according to it's polarity value\n",
    "def get_analysis(polarity: float) -> str:\n",
    "    if polarity < 0:\n",
    "        return 'negative'\n",
    "    elif polarity == 0:\n",
    "        return 'neutral'\n",
    "    else:\n",
    "        return 'positive'"
   ]
  },
  {
   "cell_type": "code",
   "execution_count": 11,
   "metadata": {},
   "outputs": [
    {
     "output_type": "execute_result",
     "data": {
      "text/plain": [
       "                                                name  \\\n",
       "0               Amazon Fire Tv,,,\\nAmazon Fire Tv,,,   \n",
       "1  Fire Tablet, 7 Display, Wi-Fi, 8 GB - Includes...   \n",
       "2  Fire Kids Edition Tablet, 7 Display, Wi-Fi, 16...   \n",
       "3               Amazon Fire Tv,,,\\nAmazon Fire Tv,,,   \n",
       "4  Amazon Kindle Paperwhite - eBook reader - 4 GB...   \n",
       "\n",
       "                                        reviews.text  polarity  analysis  \n",
       "0  Great personal assistant. Sometimes when music...  0.291429  positive  \n",
       "1  My kids are growing out of their ipod touch an...  0.266667  positive  \n",
       "2  You couldn't get a better buy for $59 than the...  0.266667  positive  \n",
       "3  Handy and entertaining device to have. Ask it ...  0.500000  positive  \n",
       "4  This is my second Kindle Paperwhite. My first ...  0.301667  positive  "
      ],
      "text/html": "<div>\n<style scoped>\n    .dataframe tbody tr th:only-of-type {\n        vertical-align: middle;\n    }\n\n    .dataframe tbody tr th {\n        vertical-align: top;\n    }\n\n    .dataframe thead th {\n        text-align: right;\n    }\n</style>\n<table border=\"1\" class=\"dataframe\">\n  <thead>\n    <tr style=\"text-align: right;\">\n      <th></th>\n      <th>name</th>\n      <th>reviews.text</th>\n      <th>polarity</th>\n      <th>analysis</th>\n    </tr>\n  </thead>\n  <tbody>\n    <tr>\n      <th>0</th>\n      <td>Amazon Fire Tv,,,\\nAmazon Fire Tv,,,</td>\n      <td>Great personal assistant. Sometimes when music...</td>\n      <td>0.291429</td>\n      <td>positive</td>\n    </tr>\n    <tr>\n      <th>1</th>\n      <td>Fire Tablet, 7 Display, Wi-Fi, 8 GB - Includes...</td>\n      <td>My kids are growing out of their ipod touch an...</td>\n      <td>0.266667</td>\n      <td>positive</td>\n    </tr>\n    <tr>\n      <th>2</th>\n      <td>Fire Kids Edition Tablet, 7 Display, Wi-Fi, 16...</td>\n      <td>You couldn't get a better buy for $59 than the...</td>\n      <td>0.266667</td>\n      <td>positive</td>\n    </tr>\n    <tr>\n      <th>3</th>\n      <td>Amazon Fire Tv,,,\\nAmazon Fire Tv,,,</td>\n      <td>Handy and entertaining device to have. Ask it ...</td>\n      <td>0.500000</td>\n      <td>positive</td>\n    </tr>\n    <tr>\n      <th>4</th>\n      <td>Amazon Kindle Paperwhite - eBook reader - 4 GB...</td>\n      <td>This is my second Kindle Paperwhite. My first ...</td>\n      <td>0.301667</td>\n      <td>positive</td>\n    </tr>\n  </tbody>\n</table>\n</div>"
     },
     "metadata": {},
     "execution_count": 11
    }
   ],
   "source": [
    "# declare each row as `positive`, 'negative` or `neutral` and store it in a column in the dataframe\n",
    "df['analysis'] = df['polarity'].apply(get_analysis)\n",
    "\n",
    "# show the first 5 rows of data\n",
    "df.head()"
   ]
  },
  {
   "cell_type": "code",
   "execution_count": 12,
   "metadata": {},
   "outputs": [],
   "source": [
    "# sort the reviews, keeping negative reviews at first\n",
    "df = df.sort_values(by=['polarity'])"
   ]
  },
  {
   "cell_type": "code",
   "execution_count": 13,
   "metadata": {},
   "outputs": [
    {
     "output_type": "execute_result",
     "data": {
      "text/plain": [
       "                                                  name  \\\n",
       "162  Fire Tablet, 7 Display, Wi-Fi, 8 GB - Includes...   \n",
       "277                                                NaN   \n",
       "945  Fire Tablet, 7 Display, Wi-Fi, 8 GB - Includes...   \n",
       "677  Fire Tablet, 7 Display, Wi-Fi, 8 GB - Includes...   \n",
       "23   All-New Fire HD 8 Tablet, 8 HD Display, Wi-Fi,...   \n",
       "\n",
       "                                          reviews.text  polarity  analysis  \n",
       "162  My mom lives her tablet! She is obsessed with ...  -0.78125  negative  \n",
       "277  Purchased as a gift for my husband. He is not ...  -0.60000  negative  \n",
       "945  I gave this as a gift. The person that receive...  -0.60000  negative  \n",
       "677  Every time I open my amazon Fire, games pop up...  -0.55000  negative  \n",
       "23   I had to return my device due to WIFI signal d...  -0.41250  negative  "
      ],
      "text/html": "<div>\n<style scoped>\n    .dataframe tbody tr th:only-of-type {\n        vertical-align: middle;\n    }\n\n    .dataframe tbody tr th {\n        vertical-align: top;\n    }\n\n    .dataframe thead th {\n        text-align: right;\n    }\n</style>\n<table border=\"1\" class=\"dataframe\">\n  <thead>\n    <tr style=\"text-align: right;\">\n      <th></th>\n      <th>name</th>\n      <th>reviews.text</th>\n      <th>polarity</th>\n      <th>analysis</th>\n    </tr>\n  </thead>\n  <tbody>\n    <tr>\n      <th>162</th>\n      <td>Fire Tablet, 7 Display, Wi-Fi, 8 GB - Includes...</td>\n      <td>My mom lives her tablet! She is obsessed with ...</td>\n      <td>-0.78125</td>\n      <td>negative</td>\n    </tr>\n    <tr>\n      <th>277</th>\n      <td>NaN</td>\n      <td>Purchased as a gift for my husband. He is not ...</td>\n      <td>-0.60000</td>\n      <td>negative</td>\n    </tr>\n    <tr>\n      <th>945</th>\n      <td>Fire Tablet, 7 Display, Wi-Fi, 8 GB - Includes...</td>\n      <td>I gave this as a gift. The person that receive...</td>\n      <td>-0.60000</td>\n      <td>negative</td>\n    </tr>\n    <tr>\n      <th>677</th>\n      <td>Fire Tablet, 7 Display, Wi-Fi, 8 GB - Includes...</td>\n      <td>Every time I open my amazon Fire, games pop up...</td>\n      <td>-0.55000</td>\n      <td>negative</td>\n    </tr>\n    <tr>\n      <th>23</th>\n      <td>All-New Fire HD 8 Tablet, 8 HD Display, Wi-Fi,...</td>\n      <td>I had to return my device due to WIFI signal d...</td>\n      <td>-0.41250</td>\n      <td>negative</td>\n    </tr>\n  </tbody>\n</table>\n</div>"
     },
     "metadata": {},
     "execution_count": 13
    }
   ],
   "source": [
    "# show the first 5 rows of the newly sorted dataframe\n",
    "df.head()"
   ]
  },
  {
   "cell_type": "code",
   "execution_count": 14,
   "metadata": {},
   "outputs": [
    {
     "output_type": "execute_result",
     "data": {
      "text/plain": [
       "                                 name  \\\n",
       "514  Echo (White),,,\\nEcho (White),,,   \n",
       "154                               NaN   \n",
       "963                               NaN   \n",
       "753  Echo (White),,,\\nEcho (White),,,   \n",
       "445                               NaN   \n",
       "\n",
       "                                          reviews.text  polarity  analysis  \n",
       "514  This perfect for my mom who loves to listen to...       1.0  positive  \n",
       "154  Awesome device, no cable for...one in every ro...       1.0  positive  \n",
       "963  Got my FireTv box with kodi and is working awe...       1.0  positive  \n",
       "753  Home assistant x bluetooth speaker. Alexa is a...       1.0  positive  \n",
       "445  Excellent tablet both for reading books and fo...       1.0  positive  "
      ],
      "text/html": "<div>\n<style scoped>\n    .dataframe tbody tr th:only-of-type {\n        vertical-align: middle;\n    }\n\n    .dataframe tbody tr th {\n        vertical-align: top;\n    }\n\n    .dataframe thead th {\n        text-align: right;\n    }\n</style>\n<table border=\"1\" class=\"dataframe\">\n  <thead>\n    <tr style=\"text-align: right;\">\n      <th></th>\n      <th>name</th>\n      <th>reviews.text</th>\n      <th>polarity</th>\n      <th>analysis</th>\n    </tr>\n  </thead>\n  <tbody>\n    <tr>\n      <th>514</th>\n      <td>Echo (White),,,\\nEcho (White),,,</td>\n      <td>This perfect for my mom who loves to listen to...</td>\n      <td>1.0</td>\n      <td>positive</td>\n    </tr>\n    <tr>\n      <th>154</th>\n      <td>NaN</td>\n      <td>Awesome device, no cable for...one in every ro...</td>\n      <td>1.0</td>\n      <td>positive</td>\n    </tr>\n    <tr>\n      <th>963</th>\n      <td>NaN</td>\n      <td>Got my FireTv box with kodi and is working awe...</td>\n      <td>1.0</td>\n      <td>positive</td>\n    </tr>\n    <tr>\n      <th>753</th>\n      <td>Echo (White),,,\\nEcho (White),,,</td>\n      <td>Home assistant x bluetooth speaker. Alexa is a...</td>\n      <td>1.0</td>\n      <td>positive</td>\n    </tr>\n    <tr>\n      <th>445</th>\n      <td>NaN</td>\n      <td>Excellent tablet both for reading books and fo...</td>\n      <td>1.0</td>\n      <td>positive</td>\n    </tr>\n  </tbody>\n</table>\n</div>"
     },
     "metadata": {},
     "execution_count": 14
    }
   ],
   "source": [
    "# show the first 5 rows of the newly sorted dataframe\n",
    "df.tail()"
   ]
  },
  {
   "cell_type": "code",
   "execution_count": 15,
   "metadata": {
    "tags": []
   },
   "outputs": [
    {
     "output_type": "stream",
     "name": "stdout",
     "text": [
      "1) 'The perfect gift for someone who needs company. She talks to Alexa and told me she appreciates that's Alexa is very polite.' was classified as 'positive' with a polarity of '0.6'\n2) 'Set up was Extreamly easy. Hooks up well with other products like TrackR, Nest and Phillips Hue. Most of all my wife gets all her songs by just asking for them. When she forgets where her phone is she simply ask it to have TrackR ring her phone and when she's cold or hot she just asks for it to be warmer or cooler.' was classified as 'positive' with a polarity of '0.08'\n3) 'This has been an exceptional hit for us she totally loves it.' was classified as 'positive' with a polarity of '0.33'\n4) 'Handy and entertaining device to have. Ask it anything and it will answer. Haven't tried advanced features yet.' was classified as 'positive' with a polarity of '0.5'\n5) 'i bought it as a replacement for my son's tablet that got broken. he likes to watch kids youtube app in the evening when we are winding down but with amazon you cant get any youtube apps just some terrible knock offs which was the point for getting to begin with. the orice was great though!' was classified as 'negative' with a polarity of '-0.14'\n"
     ]
    }
   ],
   "source": [
    "# select a few random rows and show the exact text\n",
    "for index, row in enumerate(sorted(df.iterrows(), key=lambda s: random.random()), 1):\n",
    "    if index == 6:\n",
    "        break\n",
    "    text = row[1][1]\n",
    "    polarity = round(row[1][2], 2)\n",
    "    analysis = row[1][3]\n",
    "    print(f\"{index}) '{str(text)}' was classified as '{analysis}' with a polarity of '{polarity}'\")"
   ]
  }
 ]
}